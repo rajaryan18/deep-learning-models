{
 "cells": [
  {
   "cell_type": "code",
   "execution_count": 101,
   "metadata": {},
   "outputs": [],
   "source": [
    "import torch\n",
    "import torch.nn as nn\n",
    "import cv2\n",
    "import torchvision\n",
    "from torch.utils.data import DataLoader\n",
    "from PIL import Image\n",
    "from pathlib import Path\n",
    "from torchvision import transforms\n",
    "import matplotlib.pyplot as plt\n",
    "from timeit import default_timer as timer"
   ]
  },
  {
   "cell_type": "code",
   "execution_count": 102,
   "metadata": {},
   "outputs": [
    {
     "data": {
      "text/plain": [
       "<All keys matched successfully>"
      ]
     },
     "execution_count": 102,
     "metadata": {},
     "output_type": "execute_result"
    }
   ],
   "source": [
    "from model import CarDetection\n",
    "\n",
    "carDetectionModel = CarDetection(3, 16, 1, 0.3)\n",
    "carDetectionModel.load_state_dict(torch.load('car-detection-model'))"
   ]
  },
  {
   "cell_type": "code",
   "execution_count": 103,
   "metadata": {},
   "outputs": [],
   "source": [
    "def predict(model, img):\n",
    "    model.eval()\n",
    "    with torch.inference_mode():\n",
    "        y = model(img).squeeze()\n",
    "        y = torch.sigmoid(y)\n",
    "    return y"
   ]
  },
  {
   "cell_type": "code",
   "execution_count": 104,
   "metadata": {},
   "outputs": [],
   "source": [
    "CLASSES = [\"Non-Vehicles\", \"Vehicles\"]\n",
    "path = Path('./data/test/non-vehicles/5.png')\n",
    "\n",
    "img = Image.open(path)\n",
    "tensor_transform = transforms.ToTensor()\n",
    "img = tensor_transform(img).unsqueeze(0)"
   ]
  },
  {
   "cell_type": "code",
   "execution_count": 107,
   "metadata": {},
   "outputs": [
    {
     "name": "stdout",
     "output_type": "stream",
     "text": [
      "Non-Vehicles\n"
     ]
    }
   ],
   "source": [
    "print(CLASSES[int(torch.round(predict(carDetectionModel, img)))])"
   ]
  },
  {
   "attachments": {},
   "cell_type": "markdown",
   "metadata": {},
   "source": [
    "Expected Image shape: [1, 3, 64, 64] <br>\n",
    "We can iterate over the image, "
   ]
  },
  {
   "cell_type": "code",
   "execution_count": 112,
   "metadata": {},
   "outputs": [
    {
     "name": "stdout",
     "output_type": "stream",
     "text": [
      "0.23330390000046464\n"
     ]
    }
   ],
   "source": [
    "carPath = Path('./data/number-plate-data/car-parked.jpg')\n",
    "carImg = Image.open(carPath)\n",
    "\n",
    "tensor_transform = transforms.Compose([\n",
    "    transforms.Resize((360, 480)),\n",
    "    transforms.ToTensor()\n",
    "])\n",
    "carImg = tensor_transform(carImg)\n",
    "stride = 30\n",
    "rShape = 64\n",
    "cShape = 64\n",
    "cols = carImg.shape[2]\n",
    "rows = carImg.shape[1]\n",
    "\n",
    "start_time = timer()\n",
    "for r in range(0, rows-rShape, stride):\n",
    "    for c in range(0, cols-cShape, stride):\n",
    "        updatedImg = carImg[:, r:r+rShape, c:c+cShape]\n",
    "        prediction = predict(carDetectionModel, updatedImg.unsqueeze(0))\n",
    "        # if(prediction > 0.94):\n",
    "        #     plt.imshow(updatedImg.permute(1,2,0).numpy())\n",
    "        #     plt.show()\n",
    "        #     print(prediction)\n",
    "end_time = timer()\n",
    "print(end_time-start_time)"
   ]
  },
  {
   "cell_type": "code",
   "execution_count": null,
   "metadata": {},
   "outputs": [],
   "source": []
  }
 ],
 "metadata": {
  "kernelspec": {
   "display_name": "Python 3",
   "language": "python",
   "name": "python3"
  },
  "language_info": {
   "codemirror_mode": {
    "name": "ipython",
    "version": 3
   },
   "file_extension": ".py",
   "mimetype": "text/x-python",
   "name": "python",
   "nbconvert_exporter": "python",
   "pygments_lexer": "ipython3",
   "version": "3.7.6"
  },
  "orig_nbformat": 4
 },
 "nbformat": 4,
 "nbformat_minor": 2
}
