{
 "cells": [
  {
   "cell_type": "code",
   "execution_count": 1,
   "metadata": {},
   "outputs": [
    {
     "name": "stderr",
     "output_type": "stream",
     "text": [
      "c:\\Users\\18raj\\AppData\\Local\\Programs\\Python\\Python37\\lib\\site-packages\\tqdm\\auto.py:22: TqdmWarning: IProgress not found. Please update jupyter and ipywidgets. See https://ipywidgets.readthedocs.io/en/stable/user_install.html\n",
      "  from .autonotebook import tqdm as notebook_tqdm\n"
     ]
    }
   ],
   "source": [
    "import torch\n",
    "import numpy as np\n",
    "from torchvision import transforms\n",
    "from torch.utils.data import DataLoader, Dataset\n",
    "from torch import nn\n",
    "import tensorflow as tf\n",
    "from matplotlib import pyplot as plt\n",
    "from sklearn.model_selection import train_test_split\n",
    "import random"
   ]
  },
  {
   "cell_type": "code",
   "execution_count": 2,
   "metadata": {},
   "outputs": [],
   "source": [
    "(X_train, y_train), (X_test, y_test) = tf.keras.datasets.cifar10.load_data()\n",
    "\n",
    "# img, label = train_dataset[0], train_dataset[1]\n",
    "img, label = X_train, y_train"
   ]
  },
  {
   "cell_type": "code",
   "execution_count": 3,
   "metadata": {},
   "outputs": [
    {
     "name": "stderr",
     "output_type": "stream",
     "text": [
      "c:\\Users\\18raj\\AppData\\Local\\Programs\\Python\\Python37\\lib\\site-packages\\matplotlib\\text.py:1215: FutureWarning: elementwise comparison failed; returning scalar instead, but in the future will perform elementwise comparison\n",
      "  if s != self._text:\n"
     ]
    },
    {
     "data": {
      "image/png": "[encoded data removed]",
      "text/plain": [
       "<Figure size 720x504 with 1 Axes>"
      ]
     },
     "metadata": {
      "needs_background": "light"
     },
     "output_type": "display_data"
    }
   ],
   "source": [
    "plt.figure(figsize=(10, 7))\n",
    "plt.imshow(img[1])\n",
    "plt.title(label[1])\n",
    "plt.show()"
   ]
  },
  {
   "cell_type": "code",
   "execution_count": 4,
   "metadata": {},
   "outputs": [
    {
     "name": "stdout",
     "output_type": "stream",
     "text": [
      "(40000, 32, 32, 3) (10000, 32, 32, 3) (40000, 1) (10000, 1)\n"
     ]
    }
   ],
   "source": [
    "X_train, X_val, y_train, y_val = train_test_split(X_train, y_train, test_size=0.2, shuffle=True)\n",
    "print(X_train.shape, X_val.shape, y_train.shape, y_val.shape)"
   ]
  },
  {
   "cell_type": "code",
   "execution_count": 5,
   "metadata": {},
   "outputs": [],
   "source": [
    "class MyDataset(Dataset):\n",
    "    def __init__(self, X, y):\n",
    "        self.length = len(X)\n",
    "        self.X = X/255.0\n",
    "        self.y = y\n",
    "    def __len__(self):\n",
    "        return self.length\n",
    "    def transformHorizontal(self, img):\n",
    "        for cni, cn in enumerate(img):\n",
    "            for rowi, row in enumerate(img[cni]):\n",
    "                img[cni][rowi] = np.flip(row)\n",
    "        return img\n",
    "    def transformVertical(self, img):\n",
    "        for cni, cn in enumerate(img):\n",
    "            img[cni] = np.flip(cn)\n",
    "        return img\n",
    "    def __getitem__(self, idx):\n",
    "        X = np.moveaxis(self.X[idx], 2, 0)\n",
    "        y = self.y[idx].squeeze()\n",
    "        rnd = random.randint(0, 5)\n",
    "        if rnd == 0:\n",
    "            X = self.transformHorizontal(X)\n",
    "        elif rnd == 1:\n",
    "            X = self.transformVertical(X)\n",
    "        X_tensor = torch.from_numpy(X).to(torch.float32)\n",
    "        y_tensor = torch.tensor(y).to(torch.long)\n",
    "        return X_tensor, y_tensor"
   ]
  },
  {
   "cell_type": "code",
   "execution_count": 6,
   "metadata": {},
   "outputs": [],
   "source": [
    "train_data = MyDataset(X_train, y_train)\n",
    "val_data = MyDataset(X_val, y_val)\n",
    "test_data = MyDataset(X_test, y_test)"
   ]
  },
  {
   "cell_type": "code",
   "execution_count": 7,
   "metadata": {},
   "outputs": [],
   "source": [
    "train_dataloader = DataLoader(train_data, batch_size=32, shuffle=True)\n",
    "val_dataloader = DataLoader(val_data, batch_size=32, shuffle=True)\n",
    "test_dataloader = DataLoader(test_data, batch_size=32, shuffle=True)"
   ]
  },
  {
   "cell_type": "code",
   "execution_count": 8,
   "metadata": {},
   "outputs": [
    {
     "data": {
      "text/plain": [
       "[tensor([[[[0.5804, 0.5725, 0.5843,  ..., 0.5608, 0.5569, 0.5608],\n",
       "           [0.5725, 0.5647, 0.5020,  ..., 0.5216, 0.5216, 0.5255],\n",
       "           [0.5686, 0.4588, 0.2000,  ..., 0.4902, 0.4863, 0.4941],\n",
       "           ...,\n",
       "           [0.4549, 0.4431, 0.4392,  ..., 0.3490, 0.3529, 0.3647],\n",
       "           [0.4588, 0.4431, 0.4392,  ..., 0.3529, 0.3569, 0.3647],\n",
       "           [0.4196, 0.4078, 0.4039,  ..., 0.3647, 0.3686, 0.3765]],\n",
       " \n",
       "          [[0.7137, 0.7020, 0.7137,  ..., 0.7333, 0.7294, 0.7373],\n",
       "           [0.7059, 0.6941, 0.6196,  ..., 0.7020, 0.7020, 0.7098],\n",
       "           [0.7216, 0.5725, 0.2706,  ..., 0.6824, 0.6784, 0.6863],\n",
       "           ...,\n",
       "           [0.6824, 0.6627, 0.6588,  ..., 0.5569, 0.5608, 0.5765],\n",
       "           [0.6824, 0.6627, 0.6588,  ..., 0.5608, 0.5647, 0.5765],\n",
       "           [0.6275, 0.6118, 0.6078,  ..., 0.5804, 0.5843, 0.5922]],\n",
       " \n",
       "          [[0.4078, 0.3882, 0.3961,  ..., 0.3804, 0.3804, 0.3804],\n",
       "           [0.3922, 0.3961, 0.3843,  ..., 0.3373, 0.3373, 0.3412],\n",
       "           [0.3725, 0.3255, 0.1961,  ..., 0.3137, 0.3137, 0.3176],\n",
       "           ...,\n",
       "           [0.1922, 0.1922, 0.1922,  ..., 0.2000, 0.2039, 0.2118],\n",
       "           [0.1686, 0.1647, 0.1647,  ..., 0.2078, 0.2118, 0.2157],\n",
       "           [0.1843, 0.1804, 0.1843,  ..., 0.2000, 0.2039, 0.2118]]],\n",
       " \n",
       " \n",
       "         [[[0.6039, 0.6078, 0.6157,  ..., 0.6314, 0.6471, 0.6353],\n",
       "           [0.6157, 0.6039, 0.6196,  ..., 0.6314, 0.6392, 0.6353],\n",
       "           [0.6157, 0.6039, 0.6196,  ..., 0.6314, 0.6392, 0.6431],\n",
       "           ...,\n",
       "           [0.8706, 0.8784, 0.8941,  ..., 0.9412, 0.9373, 0.9216],\n",
       "           [0.8824, 0.8824, 0.8941,  ..., 0.9490, 0.9373, 0.9294],\n",
       "           [0.8902, 0.8784, 0.8941,  ..., 0.9529, 0.9333, 0.9255]],\n",
       " \n",
       "          [[0.3804, 0.3882, 0.3961,  ..., 0.4471, 0.4667, 0.4549],\n",
       "           [0.3961, 0.3843, 0.4000,  ..., 0.4471, 0.4588, 0.4510],\n",
       "           [0.3922, 0.3843, 0.4000,  ..., 0.4471, 0.4549, 0.4588],\n",
       "           ...,\n",
       "           [0.8941, 0.8745, 0.8706,  ..., 0.8510, 0.8706, 0.8549],\n",
       "           [0.9059, 0.8784, 0.8824,  ..., 0.8549, 0.8627, 0.8667],\n",
       "           [0.9098, 0.8745, 0.8863,  ..., 0.8549, 0.8510, 0.8627]],\n",
       " \n",
       "          [[0.0863, 0.1020, 0.0980,  ..., 0.0314, 0.0353, 0.0353],\n",
       "           [0.0980, 0.0941, 0.0980,  ..., 0.0314, 0.0314, 0.0314],\n",
       "           [0.0941, 0.0941, 0.0980,  ..., 0.0314, 0.0392, 0.0392],\n",
       "           ...,\n",
       "           [0.8471, 0.8314, 0.8275,  ..., 0.7804, 0.7882, 0.7843],\n",
       "           [0.8745, 0.8510, 0.8549,  ..., 0.8000, 0.8039, 0.8196],\n",
       "           [0.8863, 0.8549, 0.8627,  ..., 0.8118, 0.8078, 0.8196]]],\n",
       " \n",
       " \n",
       "         [[[0.9725, 0.9529, 0.9529,  ..., 0.9529, 0.9569, 0.9569],\n",
       "           [0.9725, 0.9647, 0.9725,  ..., 0.9725, 0.9686, 0.9569],\n",
       "           [0.9765, 0.8667, 0.7686,  ..., 0.7255, 0.7804, 0.9412],\n",
       "           ...,\n",
       "           [0.9765, 0.8392, 0.6118,  ..., 0.4941, 0.4863, 0.6118],\n",
       "           [0.9647, 0.9490, 0.8275,  ..., 0.5843, 0.5882, 0.6824],\n",
       "           [0.9686, 0.9412, 0.8745,  ..., 0.7804, 0.7804, 0.8235]],\n",
       " \n",
       "          [[0.9725, 0.9569, 0.9608,  ..., 0.9647, 0.9608, 0.9569],\n",
       "           [0.9725, 0.9608, 0.9647,  ..., 0.9647, 0.9647, 0.9569],\n",
       "           [0.9765, 0.8549, 0.7412,  ..., 0.6980, 0.7608, 0.9373],\n",
       "           ...,\n",
       "           [0.9686, 0.8000, 0.5412,  ..., 0.4902, 0.4824, 0.6078],\n",
       "           [0.9647, 0.9333, 0.8000,  ..., 0.5843, 0.5882, 0.6824],\n",
       "           [0.9686, 0.9490, 0.8824,  ..., 0.7804, 0.7804, 0.8235]],\n",
       " \n",
       "          [[0.9804, 0.9529, 0.9451,  ..., 0.9373, 0.9412, 0.9490],\n",
       "           [0.9765, 0.9529, 0.9490,  ..., 0.9490, 0.9490, 0.9490],\n",
       "           [0.9725, 0.8431, 0.7294,  ..., 0.6863, 0.7529, 0.9333],\n",
       "           ...,\n",
       "           [0.9686, 0.7686, 0.4824,  ..., 0.4863, 0.4824, 0.6118],\n",
       "           [0.9608, 0.9216, 0.7765,  ..., 0.5843, 0.5882, 0.6824],\n",
       "           [0.9686, 0.9529, 0.8902,  ..., 0.7804, 0.7804, 0.8235]]],\n",
       " \n",
       " \n",
       "         ...,\n",
       " \n",
       " \n",
       "         [[[0.1922, 0.2039, 0.2157,  ..., 0.1490, 0.1412, 0.1686],\n",
       "           [0.1843, 0.2078, 0.2392,  ..., 0.1882, 0.1843, 0.2078],\n",
       "           [0.1765, 0.1961, 0.2353,  ..., 0.1961, 0.1843, 0.2353],\n",
       "           ...,\n",
       "           [0.2706, 0.2588, 0.3098,  ..., 0.0510, 0.0510, 0.0510],\n",
       "           [0.2706, 0.2667, 0.3373,  ..., 0.0863, 0.0706, 0.0627],\n",
       "           [0.2471, 0.3059, 0.3216,  ..., 0.1412, 0.1412, 0.1373]],\n",
       " \n",
       "          [[0.1686, 0.1804, 0.1922,  ..., 0.1333, 0.1255, 0.1529],\n",
       "           [0.1608, 0.1843, 0.2157,  ..., 0.1608, 0.1569, 0.1804],\n",
       "           [0.1529, 0.1725, 0.2118,  ..., 0.1647, 0.1529, 0.2039],\n",
       "           ...,\n",
       "           [0.2235, 0.2118, 0.2627,  ..., 0.0510, 0.0471, 0.0510],\n",
       "           [0.2235, 0.2196, 0.2902,  ..., 0.0824, 0.0627, 0.0588],\n",
       "           [0.2000, 0.2588, 0.2745,  ..., 0.1294, 0.1255, 0.1216]],\n",
       " \n",
       "          [[0.1686, 0.1804, 0.1922,  ..., 0.1294, 0.1216, 0.1490],\n",
       "           [0.1608, 0.1843, 0.2157,  ..., 0.1569, 0.1490, 0.1725],\n",
       "           [0.1529, 0.1725, 0.2118,  ..., 0.1608, 0.1529, 0.2039],\n",
       "           ...,\n",
       "           [0.2314, 0.2196, 0.2706,  ..., 0.0706, 0.0706, 0.0706],\n",
       "           [0.2314, 0.2275, 0.2941,  ..., 0.1020, 0.0863, 0.0784],\n",
       "           [0.2039, 0.2667, 0.2824,  ..., 0.1451, 0.1451, 0.1412]]],\n",
       " \n",
       " \n",
       "         [[[0.3961, 0.4000, 0.4078,  ..., 0.4314, 0.4196, 0.4039],\n",
       "           [0.4078, 0.4118, 0.4196,  ..., 0.4431, 0.4275, 0.4196],\n",
       "           [0.4157, 0.4196, 0.4275,  ..., 0.4431, 0.4275, 0.4196],\n",
       "           ...,\n",
       "           [0.2549, 0.2627, 0.2745,  ..., 0.2941, 0.2902, 0.2784],\n",
       "           [0.2510, 0.2627, 0.2627,  ..., 0.2941, 0.2902, 0.2745],\n",
       "           [0.2471, 0.2471, 0.2471,  ..., 0.2980, 0.2902, 0.2863]],\n",
       " \n",
       "          [[0.4941, 0.5020, 0.5059,  ..., 0.5176, 0.5020, 0.4902],\n",
       "           [0.5059, 0.5098, 0.5176,  ..., 0.5294, 0.5176, 0.5059],\n",
       "           [0.5059, 0.5098, 0.5176,  ..., 0.5294, 0.5176, 0.5098],\n",
       "           ...,\n",
       "           [0.2824, 0.2902, 0.3020,  ..., 0.3137, 0.3059, 0.2980],\n",
       "           [0.2784, 0.2902, 0.2902,  ..., 0.3098, 0.3059, 0.2941],\n",
       "           [0.2745, 0.2745, 0.2745,  ..., 0.3137, 0.3059, 0.3020]],\n",
       " \n",
       "          [[0.6431, 0.6431, 0.6510,  ..., 0.6667, 0.6549, 0.6431],\n",
       "           [0.6471, 0.6510, 0.6588,  ..., 0.6745, 0.6627, 0.6510],\n",
       "           [0.6431, 0.6431, 0.6510,  ..., 0.6667, 0.6549, 0.6431],\n",
       "           ...,\n",
       "           [0.3569, 0.3608, 0.3765,  ..., 0.3569, 0.3529, 0.3451],\n",
       "           [0.3569, 0.3647, 0.3647,  ..., 0.3569, 0.3529, 0.3412],\n",
       "           [0.3490, 0.3490, 0.3490,  ..., 0.3608, 0.3529, 0.3490]]],\n",
       " \n",
       " \n",
       "         [[[0.8784, 0.7294, 0.7451,  ..., 0.7686, 0.7804, 0.8902],\n",
       "           [0.7922, 0.4980, 0.5725,  ..., 0.6235, 0.6353, 0.8471],\n",
       "           [0.7569, 0.4667, 0.6078,  ..., 0.6706, 0.6706, 0.8627],\n",
       "           ...,\n",
       "           [0.7255, 0.3294, 0.3608,  ..., 0.2941, 0.3020, 0.7373],\n",
       "           [0.7412, 0.3059, 0.2980,  ..., 0.2667, 0.2863, 0.7373],\n",
       "           [0.8118, 0.5255, 0.4863,  ..., 0.4353, 0.4745, 0.8000]],\n",
       " \n",
       "          [[0.8667, 0.7020, 0.6902,  ..., 0.6980, 0.7176, 0.8745],\n",
       "           [0.7765, 0.4471, 0.4784,  ..., 0.5059, 0.5255, 0.8000],\n",
       "           [0.7333, 0.4118, 0.5137,  ..., 0.5490, 0.5451, 0.8078],\n",
       "           ...,\n",
       "           [0.7529, 0.3451, 0.3608,  ..., 0.2588, 0.2667, 0.7216],\n",
       "           [0.7529, 0.3176, 0.3020,  ..., 0.2431, 0.2588, 0.7216],\n",
       "           [0.8157, 0.5373, 0.4980,  ..., 0.4235, 0.4510, 0.7804]],\n",
       " \n",
       "          [[0.8196, 0.5961, 0.5647,  ..., 0.5608, 0.5922, 0.8078],\n",
       "           [0.7059, 0.2824, 0.2510,  ..., 0.2275, 0.2941, 0.6745],\n",
       "           [0.6745, 0.2392, 0.2627,  ..., 0.2431, 0.3020, 0.6902],\n",
       "           ...,\n",
       "           [0.6588, 0.2078, 0.2039,  ..., 0.1490, 0.1804, 0.6745],\n",
       "           [0.7020, 0.2157, 0.1608,  ..., 0.1373, 0.1686, 0.6588],\n",
       "           [0.7490, 0.4235, 0.3569,  ..., 0.3569, 0.3843, 0.7333]]]]),\n",
       " tensor([2, 6, 3, 5, 7, 6, 1, 8, 5, 4, 7, 3, 9, 9, 4, 5, 3, 0, 5, 3, 1, 3, 8, 9,\n",
       "         7, 4, 8, 5, 1, 2, 8, 4])]"
      ]
     },
     "execution_count": 8,
     "metadata": {},
     "output_type": "execute_result"
    }
   ],
   "source": [
    "next(iter(train_dataloader))"
   ]
  },
  {
   "cell_type": "code",
   "execution_count": 71,
   "metadata": {},
   "outputs": [],
   "source": [
    "class Cifar(nn.Module):\n",
    "    def __init__(self, input_size, hidden_units, output_size, shape):\n",
    "        super(Cifar, self).__init__()\n",
    "        self.conv1 = nn.Sequential(\n",
    "            nn.Conv2d(in_channels=input_size, out_channels=hidden_units, kernel_size=3, stride=1, padding=0),\n",
    "            nn.ReLU(),\n",
    "            nn.Conv2d(in_channels=hidden_units, out_channels=hidden_units, kernel_size=3, stride=1, padding=0),\n",
    "            nn.ReLU(),\n",
    "            nn.MaxPool2d(kernel_size=2, stride=2)\n",
    "        )\n",
    "        self.conv2 = nn.Sequential(\n",
    "            nn.Conv2d(in_channels=hidden_units, out_channels=hidden_units, kernel_size=3, stride=1, padding=0),\n",
    "            nn.ReLU(),\n",
    "            nn.Conv2d(in_channels=hidden_units, out_channels=hidden_units, kernel_size=3, stride=1, padding=0),\n",
    "            nn.ReLU(),\n",
    "            nn.MaxPool2d(kernel_size=2, stride=2)\n",
    "        )\n",
    "        self.classifier = nn.Sequential(\n",
    "            nn.Flatten(),\n",
    "            nn.Linear(in_features=hidden_units*shape*shape, out_features=hidden_units*(shape+2)*(shape+2)),\n",
    "            nn.ReLU(),\n",
    "            nn.Linear(in_features=hidden_units*(shape+2)*(shape+2), out_features=hidden_units*(shape+5)*(shape+5)),\n",
    "            nn.ReLU(),\n",
    "            nn.Linear(in_features=hidden_units*(shape+5)*(shape+5), out_features=output_size)\n",
    "        )\n",
    "        self.dropout = nn.Dropout(0.25)\n",
    "\n",
    "    def forward(self, x):\n",
    "        x = self.conv1(x)\n",
    "        x = self.dropout(x)\n",
    "        x = self.conv2(x)\n",
    "        x = self.dropout(x)\n",
    "        # x = self.conv2(x)\n",
    "        # x = self.dropout(x)\n",
    "        x = self.classifier(x)\n",
    "        return x"
   ]
  },
  {
   "cell_type": "code",
   "execution_count": 72,
   "metadata": {},
   "outputs": [
    {
     "data": {
      "text/plain": [
       "Cifar(\n",
       "  (conv1): Sequential(\n",
       "    (0): Conv2d(3, 10, kernel_size=(3, 3), stride=(1, 1))\n",
       "    (1): ReLU()\n",
       "    (2): Conv2d(10, 10, kernel_size=(3, 3), stride=(1, 1))\n",
       "    (3): ReLU()\n",
       "    (4): MaxPool2d(kernel_size=2, stride=2, padding=0, dilation=1, ceil_mode=False)\n",
       "  )\n",
       "  (conv2): Sequential(\n",
       "    (0): Conv2d(10, 10, kernel_size=(3, 3), stride=(1, 1))\n",
       "    (1): ReLU()\n",
       "    (2): Conv2d(10, 10, kernel_size=(3, 3), stride=(1, 1))\n",
       "    (3): ReLU()\n",
       "    (4): MaxPool2d(kernel_size=2, stride=2, padding=0, dilation=1, ceil_mode=False)\n",
       "  )\n",
       "  (classifier): Sequential(\n",
       "    (0): Flatten(start_dim=1, end_dim=-1)\n",
       "    (1): Linear(in_features=250, out_features=490, bias=True)\n",
       "    (2): ReLU()\n",
       "    (3): Linear(in_features=490, out_features=1000, bias=True)\n",
       "    (4): ReLU()\n",
       "    (5): Linear(in_features=1000, out_features=10, bias=True)\n",
       "  )\n",
       "  (dropout): Dropout(p=0.25, inplace=False)\n",
       ")"
      ]
     },
     "execution_count": 72,
     "metadata": {},
     "output_type": "execute_result"
    }
   ],
   "source": [
    "model = Cifar(input_size=3, hidden_units=10, output_size=10, shape=5)\n",
    "model"
   ]
  },
  {
   "cell_type": "code",
   "execution_count": 73,
   "metadata": {},
   "outputs": [],
   "source": [
    "def train(model: nn.Module,\n",
    "        loss_fn: nn.Module,\n",
    "        optimizer: torch.optim.Optimizer,\n",
    "        dataloader: torch.utils.data.DataLoader,\n",
    "        device=\"cpu\"\n",
    "    ):\n",
    "    model.train()\n",
    "    train_loss, accuracy = 0, 0\n",
    "    for batch, (X, y) in enumerate(dataloader):\n",
    "        X, y = X.to(device), y.to(device)\n",
    "        y_pred = model(X)\n",
    "        loss = loss_fn(y_pred, y)\n",
    "        train_loss += loss.item()\n",
    "        optimizer.zero_grad()\n",
    "        loss.backward()\n",
    "        optimizer.step()\n",
    "        y_pred_class = torch.argmax(torch.softmax(y_pred, dim=1), dim=1)\n",
    "        accuracy += (y_pred_class == y).sum().item()/len(y_pred)\n",
    "    train_loss = train_loss/len(dataloader)\n",
    "    accuracy = accuracy/len(dataloader)\n",
    "    return train_loss, accuracy"
   ]
  },
  {
   "cell_type": "code",
   "execution_count": 74,
   "metadata": {},
   "outputs": [],
   "source": [
    "def test(model: nn.Module,\n",
    "        loss_fn: nn.Module,\n",
    "        dataloader: torch.utils.data.DataLoader,\n",
    "        device=\"cpu\"\n",
    "    ):\n",
    "    model.eval()\n",
    "    test_loss, accuracy = 0, 0\n",
    "    with torch.inference_mode():\n",
    "        for batch, (X, y) in enumerate(dataloader):\n",
    "            X, y = X.to(device), y.to(device)\n",
    "            y_pred = model(X)\n",
    "            loss = loss_fn(y_pred, y)\n",
    "            test_loss += loss.item()\n",
    "            \n",
    "            y_pred_class = torch.argmax(torch.softmax(y_pred, dim=1), dim=1)\n",
    "            accuracy += (y_pred_class == y).sum().item()/len(y_pred)\n",
    "    test_loss = test_loss/len(dataloader)\n",
    "    accuracy = accuracy/len(dataloader)\n",
    "    return test_loss, accuracy"
   ]
  },
  {
   "cell_type": "code",
   "execution_count": 75,
   "metadata": {},
   "outputs": [],
   "source": [
    "loss_fn = nn.CrossEntropyLoss()\n",
    "optimizer = torch.optim.Adam(params=model.parameters(), lr=0.001)"
   ]
  },
  {
   "cell_type": "code",
   "execution_count": 76,
   "metadata": {},
   "outputs": [
    {
     "name": "stdout",
     "output_type": "stream",
     "text": [
      "Epoch: 1 | Train Loss: 1.9482 | Train Acc: 0.2633 | Test Loss: 1.7354 | Test Acc: 0.3503\n",
      "Epoch: 2 | Train Loss: 1.6890 | Train Acc: 0.3783 | Test Loss: 1.5947 | Test Acc: 0.4063\n",
      "Epoch: 3 | Train Loss: 1.5923 | Train Acc: 0.4202 | Test Loss: 1.4928 | Test Acc: 0.4491\n",
      "Epoch: 4 | Train Loss: 1.5292 | Train Acc: 0.4442 | Test Loss: 1.5287 | Test Acc: 0.4410\n",
      "Epoch: 5 | Train Loss: 1.4823 | Train Acc: 0.4619 | Test Loss: 1.3999 | Test Acc: 0.4856\n",
      "Epoch: 6 | Train Loss: 1.4456 | Train Acc: 0.4778 | Test Loss: 1.3994 | Test Acc: 0.4966\n",
      "Epoch: 7 | Train Loss: 1.4150 | Train Acc: 0.4864 | Test Loss: 1.3677 | Test Acc: 0.5068\n",
      "Epoch: 8 | Train Loss: 1.3960 | Train Acc: 0.4955 | Test Loss: 1.3107 | Test Acc: 0.5263\n",
      "Epoch: 9 | Train Loss: 1.3677 | Train Acc: 0.5063 | Test Loss: 1.2927 | Test Acc: 0.5349\n",
      "Epoch: 10 | Train Loss: 1.3452 | Train Acc: 0.5164 | Test Loss: 1.2911 | Test Acc: 0.5322\n"
     ]
    }
   ],
   "source": [
    "results = {\n",
    "    \"train_loss\": [],\n",
    "    \"train_accuracy\": [],\n",
    "    \"test_loss\": [],\n",
    "    \"test_accuracy\": []\n",
    "}\n",
    "\n",
    "epochs = 10\n",
    "for epoch in range(epochs):\n",
    "    train_loss, train_acc = train(model=model,\n",
    "                                       dataloader=train_dataloader,\n",
    "                                       loss_fn=loss_fn,\n",
    "                                       optimizer=optimizer)\n",
    "    test_loss, test_acc = test(model=model,\n",
    "                                    dataloader=val_dataloader,\n",
    "                                    loss_fn=loss_fn)\n",
    "    \n",
    "    print(f\"Epoch: {epoch+1} | Train Loss: {train_loss:.4f} | Train Acc: {train_acc:.4f} | Test Loss: {test_loss:.4f} | Test Acc: {test_acc:.4f}\")\n",
    "    results[\"train_loss\"].append(train_loss)\n",
    "    results[\"train_accuracy\"].append(train_acc)\n",
    "    results[\"test_loss\"].append(test_loss)\n",
    "    results[\"test_accuracy\"].append(test_acc)"
   ]
  },
  {
   "cell_type": "code",
   "execution_count": 77,
   "metadata": {},
   "outputs": [
    {
     "name": "stdout",
     "output_type": "stream",
     "text": [
      "Test Loss: 1.2997 | Test Acc: 0.5319\n"
     ]
    }
   ],
   "source": [
    "test_loss, test_acc = test(model=model,\n",
    "                                    dataloader=test_dataloader,\n",
    "                                    loss_fn=loss_fn)\n",
    "print(f\"Test Loss: {test_loss:.4f} | Test Acc: {test_acc:.4f}\")"
   ]
  }
 ],
 "metadata": {
  "kernelspec": {
   "display_name": "Python 3",
   "language": "python",
   "name": "python3"
  },
  "language_info": {
   "codemirror_mode": {
    "name": "ipython",
    "version": 3
   },
   "file_extension": ".py",
   "mimetype": "text/x-python",
   "name": "python",
   "nbconvert_exporter": "python",
   "pygments_lexer": "ipython3",
   "version": "3.7.6"
  },
  "orig_nbformat": 4
 },
 "nbformat": 4,
 "nbformat_minor": 2
}
