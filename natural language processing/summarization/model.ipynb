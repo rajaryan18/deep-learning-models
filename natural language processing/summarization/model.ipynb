{
 "cells": [
  {
   "cell_type": "code",
   "execution_count": 1,
   "metadata": {},
   "outputs": [
    {
     "name": "stderr",
     "output_type": "stream",
     "text": [
      "c:\\Users\\18raj\\AppData\\Local\\Programs\\Python\\Python37\\lib\\site-packages\\tqdm\\auto.py:22: TqdmWarning: IProgress not found. Please update jupyter and ipywidgets. See https://ipywidgets.readthedocs.io/en/stable/user_install.html\n",
      "  from .autonotebook import tqdm as notebook_tqdm\n"
     ]
    }
   ],
   "source": [
    "import torch\n",
    "from torch import nn\n",
    "from transformers import BertTokenizer, BertModel\n",
    "from torch.utils.data import DataLoader, Dataset\n",
    "import pandas as pd\n",
    "import numpy as np\n",
    "import json\n",
    "import nltk\n",
    "import string\n",
    "from nltk.corpus import stopwords"
   ]
  },
  {
   "cell_type": "code",
   "execution_count": 2,
   "metadata": {},
   "outputs": [],
   "source": [
    "class RNN(nn.Module):\n",
    "    def __init__(self, input_size, hidden_units, num_layers, output_size):\n",
    "        super(RNN, self).__init__()\n",
    "        self.encoder = nn.LSTM(input_size=input_size, hidden_size=hidden_units, num_layers=num_layers)\n",
    "    def forward(self, x):\n",
    "        print(x.shape)\n",
    "        return self.encoder(x)"
   ]
  },
  {
   "cell_type": "code",
   "execution_count": 3,
   "metadata": {},
   "outputs": [
    {
     "data": {
      "text/plain": [
       "RNN(\n",
       "  (encoder): LSTM(768, 512, num_layers=2)\n",
       ")"
      ]
     },
     "execution_count": 3,
     "metadata": {},
     "output_type": "execute_result"
    }
   ],
   "source": [
    "model = RNN(768, 512, 2, 768)\n",
    "model"
   ]
  },
  {
   "cell_type": "code",
   "execution_count": 4,
   "metadata": {},
   "outputs": [],
   "source": [
    "loss_fn = nn.MSELoss()\n",
    "optimizer = torch.optim.SGD(params=model.parameters(), lr=0.01)"
   ]
  },
  {
   "cell_type": "code",
   "execution_count": 5,
   "metadata": {},
   "outputs": [],
   "source": [
    "def train(model: nn.Module,\n",
    "        loss_fn: nn.Module,\n",
    "        optimizer: torch.optim.Optimizer,\n",
    "        dataloader: torch.utils.data.DataLoader,\n",
    "        device=\"cpu\"\n",
    "    ):\n",
    "    model.train()\n",
    "    train_loss, accuracy = 0, 0\n",
    "    for batch, (X, y) in enumerate(dataloader):\n",
    "        X, y = X.to(device), y.to(device)\n",
    "        y_pred = model(X)\n",
    "        loss = loss_fn(y_pred, y)\n",
    "        train_loss += loss.item()\n",
    "        optimizer.zero_grad()\n",
    "        loss.backward()\n",
    "        optimizer.step()\n",
    "        y_pred_class = torch.argmax(torch.softmax(y_pred, dim=1), dim=1)\n",
    "        accuracy += (y_pred_class == y).sum().item()/len(y_pred)\n",
    "    train_loss = train_loss/len(dataloader)\n",
    "    accuracy = accuracy/len(dataloader)\n",
    "    return train_loss, accuracy"
   ]
  },
  {
   "cell_type": "code",
   "execution_count": 6,
   "metadata": {},
   "outputs": [],
   "source": [
    "def test(model: nn.Module,\n",
    "        loss_fn: nn.Module,\n",
    "        dataloader: torch.utils.data.DataLoader,\n",
    "        device=\"cpu\"\n",
    "    ):\n",
    "    model.eval()\n",
    "    test_loss, accuracy = 0, 0\n",
    "    with torch.inference_mode():\n",
    "        for batch, (X, y) in enumerate(dataloader):\n",
    "            X, y = X.to(device), y.to(device)\n",
    "            y_pred = model(X)\n",
    "            loss = loss_fn(y_pred, y)\n",
    "            test_loss += loss.item()\n",
    "            \n",
    "            y_pred_class = torch.argmax(torch.softmax(y_pred, dim=1), dim=1)\n",
    "            accuracy += (y_pred_class == y).sum().item()/len(y_pred)\n",
    "    test_loss = test_loss/len(dataloader)\n",
    "    accuracy = accuracy/len(dataloader)\n",
    "    return test_loss, accuracy"
   ]
  },
  {
   "cell_type": "code",
   "execution_count": 7,
   "metadata": {},
   "outputs": [],
   "source": [
    "def transform_text(text):\n",
    "    text = text.lower()\n",
    "    text = nltk.word_tokenize(text)\n",
    "    y = []\n",
    "    for i in text:\n",
    "        if i.isalnum():\n",
    "            y.append(i)\n",
    "    text = y[:]\n",
    "    y.clear()\n",
    "    for i in text:\n",
    "        if i not in stopwords.words('english') and i not in string.punctuation:\n",
    "            y.append(i)\n",
    "    return \" \".join(y)"
   ]
  },
  {
   "cell_type": "code",
   "execution_count": 8,
   "metadata": {},
   "outputs": [],
   "source": [
    "def load_data(path):\n",
    "    file = open(path, encoding='utf8')\n",
    "    data = json.load(file)\n",
    "    X = []\n",
    "    y = []\n",
    "    for d in data:\n",
    "        X.append(d['dialogue'])\n",
    "        y.append(d['summary'])\n",
    "    file.close()\n",
    "    return X, y\n",
    "\n",
    "X_train, y_train = load_data('./data/train.json')\n",
    "X_val, y_val = load_data('./data/val.json')\n",
    "X_test, y_test = load_data('./data/test.json')"
   ]
  },
  {
   "cell_type": "code",
   "execution_count": 9,
   "metadata": {},
   "outputs": [],
   "source": [
    "# X_train = [transform_text(x) for x in X_train]\n",
    "# X_val = [transform_text(x) for x in X_val]\n",
    "# X_test = [transform_text(x) for x in X_test]\n",
    "# y_train = [transform_text(y) for y in y_train]\n",
    "# y_val = [transform_text(y) for y in y_val]\n",
    "# y_test = [transform_text(y) for y in y_test]"
   ]
  },
  {
   "cell_type": "code",
   "execution_count": 10,
   "metadata": {},
   "outputs": [],
   "source": [
    "import pickle\n",
    "\n",
    "# with open('data.pkl', 'wb') as file:\n",
    "#     pickle.dump([X_train, X_val, X_test, y_train, y_val, y_test], file)\n",
    "\n",
    "with open('data.pkl', 'rb') as file:\n",
    "    data = pickle.load(file)\n",
    "\n",
    "[X_train, X_val, X_test, y_train, y_val, y_test] = data"
   ]
  },
  {
   "cell_type": "code",
   "execution_count": null,
   "metadata": {},
   "outputs": [],
   "source": [
    "def bert_text_preparation(self, text, tokenizer):\n",
    "        marked_text = \"[CLS] \" + text + \" [SEP]\"\n",
    "        tokenized_text = tokenizer.tokenize(marked_text)\n",
    "        indexed_tokens = tokenizer.convert_tokens_to_ids(tokenized_text)\n",
    "        segment_ids = [1]*len(indexed_tokens)\n",
    "        tokens_tensor = torch.tensor([indexed_tokens])\n",
    "        segments_tensor = torch.tensor([segment_ids])\n",
    "        return tokenized_text, tokens_tensor, segments_tensor"
   ]
  },
  {
   "cell_type": "code",
   "execution_count": null,
   "metadata": {},
   "outputs": [],
   "source": [
    "def convert_to_embedding(x: list) -> list:\n",
    "    output = []\n",
    "    model = BertModel.from_pretrained('bert-base-uncased', output_hidden_states=True)\n",
    "    tokenizer = BertTokenizer.from_pretrained('bert-base-uncased')\n",
    "    return output"
   ]
  },
  {
   "cell_type": "code",
   "execution_count": 11,
   "metadata": {},
   "outputs": [],
   "source": [
    "class MyDataset(Dataset):\n",
    "    def __init__(self, X, y):\n",
    "        self.X = X\n",
    "        self.y = y\n",
    "        self.length = len(X)\n",
    "        self.model = BertModel.from_pretrained('bert-base-uncased', output_hidden_states=True)\n",
    "        self.tokenizer = BertTokenizer.from_pretrained('bert-base-uncased')\n",
    "    def bert_text_preparation(self, text, tokenizer):\n",
    "        marked_text = \"[CLS] \" + text + \" [SEP]\"\n",
    "        tokenized_text = tokenizer.tokenize(marked_text)\n",
    "        indexed_tokens = tokenizer.convert_tokens_to_ids(tokenized_text)\n",
    "        segment_ids = [1]*len(indexed_tokens)\n",
    "        tokens_tensor = torch.tensor([indexed_tokens])\n",
    "        segments_tensor = torch.tensor([segment_ids])\n",
    "        return tokenized_text, tokens_tensor, segments_tensor\n",
    "\n",
    "    def get_bert_embeddings(self, tokens_tensor, segments_tensor, model):\n",
    "        with torch.no_grad():\n",
    "            outputs = model(tokens_tensor, segments_tensor)\n",
    "            hidden_states = outputs[2][1:]\n",
    "        token_embeddings = hidden_states[-1]\n",
    "        token_embeddings = torch.squeeze(token_embeddings, dim=0)\n",
    "        list_token_embeddings = [token_embed.tolist() for token_embed in token_embeddings]\n",
    "        return list_token_embeddings\n",
    "    def __len__(self):\n",
    "        return self.length\n",
    "    def __getitem__(self, idx):\n",
    "        xtokenized_text, xtokens_tensor, xsegments_tensors = self.bert_text_preparation(self.X[idx], self.tokenizer)\n",
    "        xlist_token_embeddings = self.get_bert_embeddings(xtokens_tensor, xsegments_tensors, self.model)\n",
    "        X_tensor = []\n",
    "        for word in self.X[idx]:\n",
    "            try:\n",
    "                xword_index = xtokenized_text.index(word)\n",
    "                X_tensor.append(xlist_token_embeddings[xword_index])\n",
    "            except:\n",
    "                pass\n",
    "        ytokenized_text, ytokens_tensor, ysegments_tensors = self.bert_text_preparation(self.y[idx], self.tokenizer)\n",
    "        ylist_token_embeddings = self.get_bert_embeddings(ytokens_tensor, ysegments_tensors, self.model)\n",
    "        y_tensor = []\n",
    "        for word in self.y[idx]:\n",
    "            try:\n",
    "                yword_index = ytokenized_text.index(word)\n",
    "                y_tensor.append(ylist_token_embeddings[yword_index])\n",
    "            except:\n",
    "                pass\n",
    "        print(word)\n",
    "        return torch.tensor(X_tensor).to(torch.float32), torch.tensor(y_tensor).to(torch.float32)"
   ]
  },
  {
   "cell_type": "code",
   "execution_count": 12,
   "metadata": {},
   "outputs": [
    {
     "name": "stderr",
     "output_type": "stream",
     "text": [
      "Some weights of the model checkpoint at bert-base-uncased were not used when initializing BertModel: ['cls.seq_relationship.bias', 'cls.predictions.transform.dense.weight', 'cls.predictions.transform.dense.bias', 'cls.predictions.transform.LayerNorm.bias', 'cls.predictions.decoder.weight', 'cls.predictions.transform.LayerNorm.weight', 'cls.seq_relationship.weight', 'cls.predictions.bias']\n",
      "- This IS expected if you are initializing BertModel from the checkpoint of a model trained on another task or with another architecture (e.g. initializing a BertForSequenceClassification model from a BertForPreTraining model).\n",
      "- This IS NOT expected if you are initializing BertModel from the checkpoint of a model that you expect to be exactly identical (initializing a BertForSequenceClassification model from a BertForSequenceClassification model).\n",
      "Some weights of the model checkpoint at bert-base-uncased were not used when initializing BertModel: ['cls.seq_relationship.bias', 'cls.predictions.transform.dense.weight', 'cls.predictions.transform.dense.bias', 'cls.predictions.transform.LayerNorm.bias', 'cls.predictions.decoder.weight', 'cls.predictions.transform.LayerNorm.weight', 'cls.seq_relationship.weight', 'cls.predictions.bias']\n",
      "- This IS expected if you are initializing BertModel from the checkpoint of a model trained on another task or with another architecture (e.g. initializing a BertForSequenceClassification model from a BertForPreTraining model).\n",
      "- This IS NOT expected if you are initializing BertModel from the checkpoint of a model that you expect to be exactly identical (initializing a BertForSequenceClassification model from a BertForSequenceClassification model).\n",
      "Some weights of the model checkpoint at bert-base-uncased were not used when initializing BertModel: ['cls.seq_relationship.bias', 'cls.predictions.transform.dense.weight', 'cls.predictions.transform.dense.bias', 'cls.predictions.transform.LayerNorm.bias', 'cls.predictions.decoder.weight', 'cls.predictions.transform.LayerNorm.weight', 'cls.seq_relationship.weight', 'cls.predictions.bias']\n",
      "- This IS expected if you are initializing BertModel from the checkpoint of a model trained on another task or with another architecture (e.g. initializing a BertForSequenceClassification model from a BertForPreTraining model).\n",
      "- This IS NOT expected if you are initializing BertModel from the checkpoint of a model that you expect to be exactly identical (initializing a BertForSequenceClassification model from a BertForSequenceClassification model).\n"
     ]
    }
   ],
   "source": [
    "train_dataloader = DataLoader(MyDataset(X_train, y_train), batch_size=32, shuffle=True)\n",
    "val_dataloader = DataLoader(MyDataset(X_val, y_val), batch_size=32, shuffle=True)\n",
    "test_dataloader = DataLoader(MyDataset(X_test, y_test), batch_size=32, shuffle=True)"
   ]
  },
  {
   "cell_type": "code",
   "execution_count": 13,
   "metadata": {},
   "outputs": [],
   "source": [
    "# next(iter(test_dataloader))"
   ]
  },
  {
   "cell_type": "code",
   "execution_count": 14,
   "metadata": {},
   "outputs": [
    {
     "name": "stdout",
     "output_type": "stream",
     "text": [
      "eva hey goin painting daniel zoe awesome thanks like machine haha went norway guess eva asking something else zoe date super cool nice eva zoe got class eva sex though haha zoe knows eva hahaa zoe hjmusps wont fight eva zoe haha eva zoe humps eva haha ok zoe date daniel went well sex\n",
      "x\n",
      "jessica someone take care baby two hours amanda today jessica yes afternoon pamela yes pleasure pamela take care jessica baby two hours afternoon\n",
      "n\n",
      "alex could text pic took phone yesterday alex one center group alex want make new facebook profile pic kim get angry kim deleted mistake alex lol worry alex sure someone else alex wants set picture took profile picture facebook kim already deleted mistake\n",
      "e\n",
      "kenna hey saw jacob today kenna like jacob paulson ronny kenna campus kenna bowl kristie really kristie thought hes ottawa kenna probably visiting kenna saw jacob paulson campus bowl probably came ottawa visit\n",
      "t\n",
      "jackson like duo sixtynine nicki kaleigh great together eh kala yeah love fefe kala matching jackson video great kaleigh wonder going make another clip together kaleigh great kala wonder coming calgary concert jackson would hard jackson see kaleigh kaleigh adore kala k kaleigh understand jackson kaleigh kala fond sixtynine nicki duo mutual clip\n",
      "p\n",
      "claudia hey anyone zalando discount code kelsey shoes claudia ok order cute boots kelsey go xshoes25 jaylene send us pics get claudia thank bunch kel kelsey shared zalando discount code claudia\n",
      "a\n",
      "max gentlemen meeting 15 matt max planning john ok thanks meeting planning 15 minutes\n",
      "s\n",
      "brody hows econ studying ashley brody slow answering 4 questions final right least one question every section ashley yes skipped haha want study tomorrow brody ye sure long see much stuff get brain tonight hahaha chapters u review think skip 6 ashley haha thinking tomorrow afternoon studying last part graphs brody 1 anything easiest right ashley think anything module 1 brody ohh ok well ashley draw graph question 3 second midterm understand mine wrong brody lol might got things right though actually right ashley send picture brody know answers relative ashley haha idea ugh stupid graph makes sense would capital influence agriculture brody ye get either ashley ok thanks anyway brody welcome ashley brody studying economy exam brody study tomorrow skipped chapters ashley got graph wrong brody correct\n",
      "t\n",
      "sarah hello mummy good time today mummy good evening darling sorry late reply everything interesting busy whole day bit tired sarah wondered write morning mummy simply chance sit peace text beryl wo leave alone fine sweetheart sarah well indeed defrosted food last night dad made salad everything fine worry us pls mummy emptied washing machine sarah sugar sec mummy leave laundry line come sarah getting friend much reminisce mummy actually hardly much see lot talking sightseeing beryl knowledgeable brainy sarah surely mummy mummy art historian art aficionado sarah great good time wish loads spectacular sightseeing tomorrow mummy thanks sweetheart going visit castles outside city wo back hotel evening text ok sarah whenever suits tomorrow evening peter comes meal home since ca 6 pm mummy say hello peter nice boy sarah know mummy take care till tomorrow love mummy love sweetheart take care mummy away friend beryl art historian going visit castles tomorrow mummy text sarah evening sarah empty washing machine leave laundry line tomorrow evening peter comes meal sarah home since 6 pm\n",
      "m\n",
      "hersala hey saw box name address around recycling bin pacifica told husband detach sticker throws trash pacifica guess time hersala detached threw away already hersala dangerous terms hersala somebody uses number address crime pacifica thanks letting know hersala problem neighbors hersala pacifica neighbour disposes pacifica mail containing personal information pacifica husband remove\n",
      "e\n",
      "ralph anyone know get beer hour dan petrol station mike checked google maybe local deli open ralph looking place buy beer\n",
      "r\n",
      "daniel packing trip done michael mostly done forget passport matt id enough michael sure brian michael bosnia herzegovina eu proper border control michael passport entry daniel good wrote us think p matt yes morons daniel haha yes bit brian even know going enter bosnia though going stay croatia michael planned go mostar mountains bosnia brian anyway pack passport michael good michael reminds friends bring passports trip\n",
      "p\n",
      "anna anna feel terrible anna hurt bad morgan morgan oh sweetie sorry morgan seem like hurt less time morgan promise anna know right anna know breaking best decision anna still miss much anna break boyfriend needed end still misses\n",
      "s\n",
      "heidi think heidi heidi one group compositions music gcse matt alpin provided left hand melody rest isla oh gosh find gem memory throw back heidi irritated fact could combine two contrasting melodies explain meant even though could clearly hear head memorised heidi downloaded musescore program lets transcribe notes could see problem damn triplets heidi realise people would let go sure says p isla says something want proud think actually talented girl xx heidi aww thanks isla really means lot heidi btw talented one isla talented one means talented creating piece music brightening day heidi aww making blush heidi question enjoy music gcse impression many people isla honest really remember heidi really isla yeah age ago heidi 5 years p heidi always impression wanted professional musicians disappointed got old us isla would call accurate impression actually isla certainly true miss robertson maybe expecting people lot keener well heidi kinda thinking along lines mr richmon actually p isla really isla would said isla ever know mr gilbert heidi think met came time sixth form heidi nice aka good music teacher isla bit like nice mr prideux isla talented also excuse french guy isla git heidi sends isla group composition music gcse isla considers heidi talented music isla remember much music gcse\n",
      "e\n",
      "amy hello garry hey whats amy joules driver answering text know fond jacy dint complains pick morning garry sure amy know lives garry yeah yesterday amy thanks totally saved butts amy asks garry pick joules morning garry agrees\n",
      "s\n",
      "angelina wan na go cinema see first man moon jennifer yes sure angelina thinking friday like pm cinema city arkadia jennifer thats ok angelina great see angelina jennifer go see first man moon friday around pm cinema city arkadia\n",
      "a\n",
      "kevin happy birthday grandpa kevin grandpa thank kevin kevin bring something afternoon kevin made something grandpa super better pay attention teacher grandpa see later kiddo kevin maths boring kevin bring something grandpa birthday afternoon\n",
      "n\n",
      "flora okay let talk presentation flora barney sure barney need grab coffee flora waiting barney let start flora one topic mind barney flora influence social media youth barney sounds like important subject flora yes barney talk tomorrow barney told need go work flora sure problem flora talk barney presentation influence social media youth tomorrow\n",
      "w\n",
      "tom hey dan jack yes tom f phone talk urgently jack ok ask soon comes back restroom tom wha jack bar drinking match tom right forgot match today jack slightly tom ok jack still lot satisfaction given level team expected kick ass one point tom kicked end jack yep even bruise ass much wanted tom remember could ones hurting butt jack know ok dan coming tom cool talk jack yep see ya tom reach dan phone jack dan match today bar drinking jack pass phone dan tom talk\n",
      "k\n",
      "ralph prepared speech ulrich wedding sergio yes took long time ralph going mention sergio mostly talk great friend years ralph yeah great guy deserves sergio bit nervous though giving speech ralph fine know put lot thought sergio prepared speech ulrich wedding talk great friend years afraid giving speech\n",
      "h\n",
      "jared send scanned copy read later isabel prefer send via messenger isabel going leave copy mailbox ok jared whatever fine jared wo able read evening isabel leave jared copy mailbox jared wo able read evening\n",
      "g\n",
      "zane hey better get perry prowl nola told send article afternoon zane said something groundhopkins coach nola shit supposed send today nola scale mad zane 12 nola oh crap zane anything help nola prepare lovely eulogy perry finishes zane better hurry turning kinda red like tomato nola tell shit perry prowl extremely mad nola supposed send something groundhopkins coach really needs hurry\n",
      "y\n",
      "aneta look book henry strand said josh yes also old books henry informs aneta josh book found strand\n",
      "d\n",
      "dean tou laura dean laura fine thanks dean studying studying dean studying laura sounds exciting p dean much laura dean wanted ask like dinner tonight laura sweet thank dean buuut laura promised mum would help tonight dean oh laura tomorrow dean great laura dean studying lot wanted invite laura dinner tonight laura promised would help mum tonight laura dean dinner tomorrow\n",
      "w\n",
      "owen shift fiona difficult two ambulances come 2 later 4am back killing owen owen want massage later fiona oh gosh yes owen fiona two ambulances come 2 back pain owen message fiona later\n",
      "r\n",
      "andrew swords house nick always fan swords andrew nick know nick love nick always thought honorable shooting someone roof andrew maybe honorable effective andrew snipers main task kill someone fast without detection andrew besides snipers assassins knights nick love fantasy even like ancient times like watching sword fighting like way present wall andrew kk get nick collects swords prefers guns\n",
      "s\n",
      "ida come pete sorry ca family bday ida shame ida call pete ok pete family birthday ca come ida place\n",
      "e\n",
      "jessie jessie flat nice jim flatmates jessie seen one korean girl jim jessie name jee crazy kitchen equipment jim good one around jessie okay gon na unpack little jim keep touch jessie unpacking new flat met korean flatmate jee jee owns lot kitchen equipment\n",
      "t\n",
      "audrina selena got drunk last night audrina hahaha selena audrina got drunk last night\n",
      "t\n",
      "paula bring booze jenny wo drink jim buy wine paula wish jenny wo drink jim buy wine\n",
      "e\n",
      "trish hello 876 ready early check returning pass thx casey thank u trish trish yw casey good trish oh yes lol 453 turnt casey thank u trish review one guest stays town often give casey yet trish rating casey yet one couple days ago said place spotless smelled clean trish yay casey awesome job still waiting guy stays often leave review let know trish nice yes keep updated thx casey trish prepared room 876 early check 453 turnt guests left good reviews place\n",
      "e\n",
      "rafal hello attached reviewed version alex acceptable rafal yes good job john thumb rafal sends alex john revieved version accepted\n",
      "d\n"
     ]
    },
    {
     "ename": "RuntimeError",
     "evalue": "stack expects each tensor to be equal size, but got [19, 768] at entry 0 and [0] at entry 1",
     "output_type": "error",
     "traceback": [
      "\u001b[1;31m---------------------------------------------------------------------------\u001b[0m",
      "\u001b[1;31mRuntimeError\u001b[0m                              Traceback (most recent call last)",
      "\u001b[1;32m~\\AppData\\Local\\Temp\\ipykernel_17720\\3978074708.py\u001b[0m in \u001b[0;36m<module>\u001b[1;34m\u001b[0m\n\u001b[0;32m      1\u001b[0m \u001b[0mepochs\u001b[0m \u001b[1;33m=\u001b[0m \u001b[1;36m5\u001b[0m\u001b[1;33m\u001b[0m\u001b[1;33m\u001b[0m\u001b[0m\n\u001b[0;32m      2\u001b[0m \u001b[1;32mfor\u001b[0m \u001b[0mepoch\u001b[0m \u001b[1;32min\u001b[0m \u001b[0mrange\u001b[0m\u001b[1;33m(\u001b[0m\u001b[0mepochs\u001b[0m\u001b[1;33m)\u001b[0m\u001b[1;33m:\u001b[0m\u001b[1;33m\u001b[0m\u001b[1;33m\u001b[0m\u001b[0m\n\u001b[1;32m----> 3\u001b[1;33m     \u001b[0mtrain_loss\u001b[0m\u001b[1;33m,\u001b[0m \u001b[0mtrain_accuracy\u001b[0m \u001b[1;33m=\u001b[0m \u001b[0mtrain\u001b[0m\u001b[1;33m(\u001b[0m\u001b[0mmodel\u001b[0m\u001b[1;33m,\u001b[0m \u001b[0mloss_fn\u001b[0m\u001b[1;33m,\u001b[0m \u001b[0moptimizer\u001b[0m\u001b[1;33m,\u001b[0m \u001b[0mtrain_dataloader\u001b[0m\u001b[1;33m)\u001b[0m\u001b[1;33m\u001b[0m\u001b[1;33m\u001b[0m\u001b[0m\n\u001b[0m\u001b[0;32m      4\u001b[0m     \u001b[0mval_loss\u001b[0m\u001b[1;33m,\u001b[0m \u001b[0mval_accuracy\u001b[0m \u001b[1;33m=\u001b[0m \u001b[0mtest\u001b[0m\u001b[1;33m(\u001b[0m\u001b[0mmodel\u001b[0m\u001b[1;33m,\u001b[0m \u001b[0mloss_fn\u001b[0m\u001b[1;33m,\u001b[0m \u001b[0mval_dataloader\u001b[0m\u001b[1;33m)\u001b[0m\u001b[1;33m\u001b[0m\u001b[1;33m\u001b[0m\u001b[0m\n\u001b[0;32m      5\u001b[0m     \u001b[0mprint\u001b[0m\u001b[1;33m(\u001b[0m\u001b[1;34mf\"Epoch: {epoch} | Train Loss: {train_loss} | Train Accuracy: {train_accuracy} | Val Loss: {val_loss} | Val Accuracy: {val_accuracy}\"\u001b[0m\u001b[1;33m)\u001b[0m\u001b[1;33m\u001b[0m\u001b[1;33m\u001b[0m\u001b[0m\n",
      "\u001b[1;32m~\\AppData\\Local\\Temp\\ipykernel_17720\\3553953543.py\u001b[0m in \u001b[0;36mtrain\u001b[1;34m(model, loss_fn, optimizer, dataloader, device)\u001b[0m\n\u001b[0;32m      7\u001b[0m     \u001b[0mmodel\u001b[0m\u001b[1;33m.\u001b[0m\u001b[0mtrain\u001b[0m\u001b[1;33m(\u001b[0m\u001b[1;33m)\u001b[0m\u001b[1;33m\u001b[0m\u001b[1;33m\u001b[0m\u001b[0m\n\u001b[0;32m      8\u001b[0m     \u001b[0mtrain_loss\u001b[0m\u001b[1;33m,\u001b[0m \u001b[0maccuracy\u001b[0m \u001b[1;33m=\u001b[0m \u001b[1;36m0\u001b[0m\u001b[1;33m,\u001b[0m \u001b[1;36m0\u001b[0m\u001b[1;33m\u001b[0m\u001b[1;33m\u001b[0m\u001b[0m\n\u001b[1;32m----> 9\u001b[1;33m     \u001b[1;32mfor\u001b[0m \u001b[0mbatch\u001b[0m\u001b[1;33m,\u001b[0m \u001b[1;33m(\u001b[0m\u001b[0mX\u001b[0m\u001b[1;33m,\u001b[0m \u001b[0my\u001b[0m\u001b[1;33m)\u001b[0m \u001b[1;32min\u001b[0m \u001b[0menumerate\u001b[0m\u001b[1;33m(\u001b[0m\u001b[0mdataloader\u001b[0m\u001b[1;33m)\u001b[0m\u001b[1;33m:\u001b[0m\u001b[1;33m\u001b[0m\u001b[1;33m\u001b[0m\u001b[0m\n\u001b[0m\u001b[0;32m     10\u001b[0m         \u001b[0mX\u001b[0m\u001b[1;33m,\u001b[0m \u001b[0my\u001b[0m \u001b[1;33m=\u001b[0m \u001b[0mX\u001b[0m\u001b[1;33m.\u001b[0m\u001b[0mto\u001b[0m\u001b[1;33m(\u001b[0m\u001b[0mdevice\u001b[0m\u001b[1;33m)\u001b[0m\u001b[1;33m,\u001b[0m \u001b[0my\u001b[0m\u001b[1;33m.\u001b[0m\u001b[0mto\u001b[0m\u001b[1;33m(\u001b[0m\u001b[0mdevice\u001b[0m\u001b[1;33m)\u001b[0m\u001b[1;33m\u001b[0m\u001b[1;33m\u001b[0m\u001b[0m\n\u001b[0;32m     11\u001b[0m         \u001b[0my_pred\u001b[0m \u001b[1;33m=\u001b[0m \u001b[0mmodel\u001b[0m\u001b[1;33m(\u001b[0m\u001b[0mX\u001b[0m\u001b[1;33m)\u001b[0m\u001b[1;33m\u001b[0m\u001b[1;33m\u001b[0m\u001b[0m\n",
      "\u001b[1;32mc:\\Users\\18raj\\AppData\\Local\\Programs\\Python\\Python37\\lib\\site-packages\\torch\\utils\\data\\dataloader.py\u001b[0m in \u001b[0;36m__next__\u001b[1;34m(self)\u001b[0m\n\u001b[0;32m    626\u001b[0m                 \u001b[1;31m# TODO(https://github.com/pytorch/pytorch/issues/76750)\u001b[0m\u001b[1;33m\u001b[0m\u001b[1;33m\u001b[0m\u001b[1;33m\u001b[0m\u001b[0m\n\u001b[0;32m    627\u001b[0m                 \u001b[0mself\u001b[0m\u001b[1;33m.\u001b[0m\u001b[0m_reset\u001b[0m\u001b[1;33m(\u001b[0m\u001b[1;33m)\u001b[0m  \u001b[1;31m# type: ignore[call-arg]\u001b[0m\u001b[1;33m\u001b[0m\u001b[1;33m\u001b[0m\u001b[0m\n\u001b[1;32m--> 628\u001b[1;33m             \u001b[0mdata\u001b[0m \u001b[1;33m=\u001b[0m \u001b[0mself\u001b[0m\u001b[1;33m.\u001b[0m\u001b[0m_next_data\u001b[0m\u001b[1;33m(\u001b[0m\u001b[1;33m)\u001b[0m\u001b[1;33m\u001b[0m\u001b[1;33m\u001b[0m\u001b[0m\n\u001b[0m\u001b[0;32m    629\u001b[0m             \u001b[0mself\u001b[0m\u001b[1;33m.\u001b[0m\u001b[0m_num_yielded\u001b[0m \u001b[1;33m+=\u001b[0m \u001b[1;36m1\u001b[0m\u001b[1;33m\u001b[0m\u001b[1;33m\u001b[0m\u001b[0m\n\u001b[0;32m    630\u001b[0m             \u001b[1;32mif\u001b[0m \u001b[0mself\u001b[0m\u001b[1;33m.\u001b[0m\u001b[0m_dataset_kind\u001b[0m \u001b[1;33m==\u001b[0m \u001b[0m_DatasetKind\u001b[0m\u001b[1;33m.\u001b[0m\u001b[0mIterable\u001b[0m \u001b[1;32mand\u001b[0m\u001b[0;31m \u001b[0m\u001b[0;31m\\\u001b[0m\u001b[1;33m\u001b[0m\u001b[1;33m\u001b[0m\u001b[0m\n",
      "\u001b[1;32mc:\\Users\\18raj\\AppData\\Local\\Programs\\Python\\Python37\\lib\\site-packages\\torch\\utils\\data\\dataloader.py\u001b[0m in \u001b[0;36m_next_data\u001b[1;34m(self)\u001b[0m\n\u001b[0;32m    669\u001b[0m     \u001b[1;32mdef\u001b[0m \u001b[0m_next_data\u001b[0m\u001b[1;33m(\u001b[0m\u001b[0mself\u001b[0m\u001b[1;33m)\u001b[0m\u001b[1;33m:\u001b[0m\u001b[1;33m\u001b[0m\u001b[1;33m\u001b[0m\u001b[0m\n\u001b[0;32m    670\u001b[0m         \u001b[0mindex\u001b[0m \u001b[1;33m=\u001b[0m \u001b[0mself\u001b[0m\u001b[1;33m.\u001b[0m\u001b[0m_next_index\u001b[0m\u001b[1;33m(\u001b[0m\u001b[1;33m)\u001b[0m  \u001b[1;31m# may raise StopIteration\u001b[0m\u001b[1;33m\u001b[0m\u001b[1;33m\u001b[0m\u001b[0m\n\u001b[1;32m--> 671\u001b[1;33m         \u001b[0mdata\u001b[0m \u001b[1;33m=\u001b[0m \u001b[0mself\u001b[0m\u001b[1;33m.\u001b[0m\u001b[0m_dataset_fetcher\u001b[0m\u001b[1;33m.\u001b[0m\u001b[0mfetch\u001b[0m\u001b[1;33m(\u001b[0m\u001b[0mindex\u001b[0m\u001b[1;33m)\u001b[0m  \u001b[1;31m# may raise StopIteration\u001b[0m\u001b[1;33m\u001b[0m\u001b[1;33m\u001b[0m\u001b[0m\n\u001b[0m\u001b[0;32m    672\u001b[0m         \u001b[1;32mif\u001b[0m \u001b[0mself\u001b[0m\u001b[1;33m.\u001b[0m\u001b[0m_pin_memory\u001b[0m\u001b[1;33m:\u001b[0m\u001b[1;33m\u001b[0m\u001b[1;33m\u001b[0m\u001b[0m\n\u001b[0;32m    673\u001b[0m             \u001b[0mdata\u001b[0m \u001b[1;33m=\u001b[0m \u001b[0m_utils\u001b[0m\u001b[1;33m.\u001b[0m\u001b[0mpin_memory\u001b[0m\u001b[1;33m.\u001b[0m\u001b[0mpin_memory\u001b[0m\u001b[1;33m(\u001b[0m\u001b[0mdata\u001b[0m\u001b[1;33m,\u001b[0m \u001b[0mself\u001b[0m\u001b[1;33m.\u001b[0m\u001b[0m_pin_memory_device\u001b[0m\u001b[1;33m)\u001b[0m\u001b[1;33m\u001b[0m\u001b[1;33m\u001b[0m\u001b[0m\n",
      "\u001b[1;32mc:\\Users\\18raj\\AppData\\Local\\Programs\\Python\\Python37\\lib\\site-packages\\torch\\utils\\data\\_utils\\fetch.py\u001b[0m in \u001b[0;36mfetch\u001b[1;34m(self, possibly_batched_index)\u001b[0m\n\u001b[0;32m     59\u001b[0m         \u001b[1;32melse\u001b[0m\u001b[1;33m:\u001b[0m\u001b[1;33m\u001b[0m\u001b[1;33m\u001b[0m\u001b[0m\n\u001b[0;32m     60\u001b[0m             \u001b[0mdata\u001b[0m \u001b[1;33m=\u001b[0m \u001b[0mself\u001b[0m\u001b[1;33m.\u001b[0m\u001b[0mdataset\u001b[0m\u001b[1;33m[\u001b[0m\u001b[0mpossibly_batched_index\u001b[0m\u001b[1;33m]\u001b[0m\u001b[1;33m\u001b[0m\u001b[1;33m\u001b[0m\u001b[0m\n\u001b[1;32m---> 61\u001b[1;33m         \u001b[1;32mreturn\u001b[0m \u001b[0mself\u001b[0m\u001b[1;33m.\u001b[0m\u001b[0mcollate_fn\u001b[0m\u001b[1;33m(\u001b[0m\u001b[0mdata\u001b[0m\u001b[1;33m)\u001b[0m\u001b[1;33m\u001b[0m\u001b[1;33m\u001b[0m\u001b[0m\n\u001b[0m",
      "\u001b[1;32mc:\\Users\\18raj\\AppData\\Local\\Programs\\Python\\Python37\\lib\\site-packages\\torch\\utils\\data\\_utils\\collate.py\u001b[0m in \u001b[0;36mdefault_collate\u001b[1;34m(batch)\u001b[0m\n\u001b[0;32m    263\u001b[0m             \u001b[1;33m>>\u001b[0m\u001b[1;33m>\u001b[0m \u001b[0mdefault_collate\u001b[0m\u001b[1;33m(\u001b[0m\u001b[0mbatch\u001b[0m\u001b[1;33m)\u001b[0m  \u001b[1;31m# Handle `CustomType` automatically\u001b[0m\u001b[1;33m\u001b[0m\u001b[1;33m\u001b[0m\u001b[0m\n\u001b[0;32m    264\u001b[0m     \"\"\"\n\u001b[1;32m--> 265\u001b[1;33m     \u001b[1;32mreturn\u001b[0m \u001b[0mcollate\u001b[0m\u001b[1;33m(\u001b[0m\u001b[0mbatch\u001b[0m\u001b[1;33m,\u001b[0m \u001b[0mcollate_fn_map\u001b[0m\u001b[1;33m=\u001b[0m\u001b[0mdefault_collate_fn_map\u001b[0m\u001b[1;33m)\u001b[0m\u001b[1;33m\u001b[0m\u001b[1;33m\u001b[0m\u001b[0m\n\u001b[0m",
      "\u001b[1;32mc:\\Users\\18raj\\AppData\\Local\\Programs\\Python\\Python37\\lib\\site-packages\\torch\\utils\\data\\_utils\\collate.py\u001b[0m in \u001b[0;36mcollate\u001b[1;34m(batch, collate_fn_map)\u001b[0m\n\u001b[0;32m    141\u001b[0m \u001b[1;33m\u001b[0m\u001b[0m\n\u001b[0;32m    142\u001b[0m         \u001b[1;32mif\u001b[0m \u001b[0misinstance\u001b[0m\u001b[1;33m(\u001b[0m\u001b[0melem\u001b[0m\u001b[1;33m,\u001b[0m \u001b[0mtuple\u001b[0m\u001b[1;33m)\u001b[0m\u001b[1;33m:\u001b[0m\u001b[1;33m\u001b[0m\u001b[1;33m\u001b[0m\u001b[0m\n\u001b[1;32m--> 143\u001b[1;33m             \u001b[1;32mreturn\u001b[0m \u001b[1;33m[\u001b[0m\u001b[0mcollate\u001b[0m\u001b[1;33m(\u001b[0m\u001b[0msamples\u001b[0m\u001b[1;33m,\u001b[0m \u001b[0mcollate_fn_map\u001b[0m\u001b[1;33m=\u001b[0m\u001b[0mcollate_fn_map\u001b[0m\u001b[1;33m)\u001b[0m \u001b[1;32mfor\u001b[0m \u001b[0msamples\u001b[0m \u001b[1;32min\u001b[0m \u001b[0mtransposed\u001b[0m\u001b[1;33m]\u001b[0m  \u001b[1;31m# Backwards compatibility.\u001b[0m\u001b[1;33m\u001b[0m\u001b[1;33m\u001b[0m\u001b[0m\n\u001b[0m\u001b[0;32m    144\u001b[0m         \u001b[1;32melse\u001b[0m\u001b[1;33m:\u001b[0m\u001b[1;33m\u001b[0m\u001b[1;33m\u001b[0m\u001b[0m\n\u001b[0;32m    145\u001b[0m             \u001b[1;32mtry\u001b[0m\u001b[1;33m:\u001b[0m\u001b[1;33m\u001b[0m\u001b[1;33m\u001b[0m\u001b[0m\n",
      "\u001b[1;32mc:\\Users\\18raj\\AppData\\Local\\Programs\\Python\\Python37\\lib\\site-packages\\torch\\utils\\data\\_utils\\collate.py\u001b[0m in \u001b[0;36m<listcomp>\u001b[1;34m(.0)\u001b[0m\n\u001b[0;32m    141\u001b[0m \u001b[1;33m\u001b[0m\u001b[0m\n\u001b[0;32m    142\u001b[0m         \u001b[1;32mif\u001b[0m \u001b[0misinstance\u001b[0m\u001b[1;33m(\u001b[0m\u001b[0melem\u001b[0m\u001b[1;33m,\u001b[0m \u001b[0mtuple\u001b[0m\u001b[1;33m)\u001b[0m\u001b[1;33m:\u001b[0m\u001b[1;33m\u001b[0m\u001b[1;33m\u001b[0m\u001b[0m\n\u001b[1;32m--> 143\u001b[1;33m             \u001b[1;32mreturn\u001b[0m \u001b[1;33m[\u001b[0m\u001b[0mcollate\u001b[0m\u001b[1;33m(\u001b[0m\u001b[0msamples\u001b[0m\u001b[1;33m,\u001b[0m \u001b[0mcollate_fn_map\u001b[0m\u001b[1;33m=\u001b[0m\u001b[0mcollate_fn_map\u001b[0m\u001b[1;33m)\u001b[0m \u001b[1;32mfor\u001b[0m \u001b[0msamples\u001b[0m \u001b[1;32min\u001b[0m \u001b[0mtransposed\u001b[0m\u001b[1;33m]\u001b[0m  \u001b[1;31m# Backwards compatibility.\u001b[0m\u001b[1;33m\u001b[0m\u001b[1;33m\u001b[0m\u001b[0m\n\u001b[0m\u001b[0;32m    144\u001b[0m         \u001b[1;32melse\u001b[0m\u001b[1;33m:\u001b[0m\u001b[1;33m\u001b[0m\u001b[1;33m\u001b[0m\u001b[0m\n\u001b[0;32m    145\u001b[0m             \u001b[1;32mtry\u001b[0m\u001b[1;33m:\u001b[0m\u001b[1;33m\u001b[0m\u001b[1;33m\u001b[0m\u001b[0m\n",
      "\u001b[1;32mc:\\Users\\18raj\\AppData\\Local\\Programs\\Python\\Python37\\lib\\site-packages\\torch\\utils\\data\\_utils\\collate.py\u001b[0m in \u001b[0;36mcollate\u001b[1;34m(batch, collate_fn_map)\u001b[0m\n\u001b[0;32m    118\u001b[0m     \u001b[1;32mif\u001b[0m \u001b[0mcollate_fn_map\u001b[0m \u001b[1;32mis\u001b[0m \u001b[1;32mnot\u001b[0m \u001b[1;32mNone\u001b[0m\u001b[1;33m:\u001b[0m\u001b[1;33m\u001b[0m\u001b[1;33m\u001b[0m\u001b[0m\n\u001b[0;32m    119\u001b[0m         \u001b[1;32mif\u001b[0m \u001b[0melem_type\u001b[0m \u001b[1;32min\u001b[0m \u001b[0mcollate_fn_map\u001b[0m\u001b[1;33m:\u001b[0m\u001b[1;33m\u001b[0m\u001b[1;33m\u001b[0m\u001b[0m\n\u001b[1;32m--> 120\u001b[1;33m             \u001b[1;32mreturn\u001b[0m \u001b[0mcollate_fn_map\u001b[0m\u001b[1;33m[\u001b[0m\u001b[0melem_type\u001b[0m\u001b[1;33m]\u001b[0m\u001b[1;33m(\u001b[0m\u001b[0mbatch\u001b[0m\u001b[1;33m,\u001b[0m \u001b[0mcollate_fn_map\u001b[0m\u001b[1;33m=\u001b[0m\u001b[0mcollate_fn_map\u001b[0m\u001b[1;33m)\u001b[0m\u001b[1;33m\u001b[0m\u001b[1;33m\u001b[0m\u001b[0m\n\u001b[0m\u001b[0;32m    121\u001b[0m \u001b[1;33m\u001b[0m\u001b[0m\n\u001b[0;32m    122\u001b[0m         \u001b[1;32mfor\u001b[0m \u001b[0mcollate_type\u001b[0m \u001b[1;32min\u001b[0m \u001b[0mcollate_fn_map\u001b[0m\u001b[1;33m:\u001b[0m\u001b[1;33m\u001b[0m\u001b[1;33m\u001b[0m\u001b[0m\n",
      "\u001b[1;32mc:\\Users\\18raj\\AppData\\Local\\Programs\\Python\\Python37\\lib\\site-packages\\torch\\utils\\data\\_utils\\collate.py\u001b[0m in \u001b[0;36mcollate_tensor_fn\u001b[1;34m(batch, collate_fn_map)\u001b[0m\n\u001b[0;32m    161\u001b[0m         \u001b[0mstorage\u001b[0m \u001b[1;33m=\u001b[0m \u001b[0melem\u001b[0m\u001b[1;33m.\u001b[0m\u001b[0mstorage\u001b[0m\u001b[1;33m(\u001b[0m\u001b[1;33m)\u001b[0m\u001b[1;33m.\u001b[0m\u001b[0m_new_shared\u001b[0m\u001b[1;33m(\u001b[0m\u001b[0mnumel\u001b[0m\u001b[1;33m,\u001b[0m \u001b[0mdevice\u001b[0m\u001b[1;33m=\u001b[0m\u001b[0melem\u001b[0m\u001b[1;33m.\u001b[0m\u001b[0mdevice\u001b[0m\u001b[1;33m)\u001b[0m\u001b[1;33m\u001b[0m\u001b[1;33m\u001b[0m\u001b[0m\n\u001b[0;32m    162\u001b[0m         \u001b[0mout\u001b[0m \u001b[1;33m=\u001b[0m \u001b[0melem\u001b[0m\u001b[1;33m.\u001b[0m\u001b[0mnew\u001b[0m\u001b[1;33m(\u001b[0m\u001b[0mstorage\u001b[0m\u001b[1;33m)\u001b[0m\u001b[1;33m.\u001b[0m\u001b[0mresize_\u001b[0m\u001b[1;33m(\u001b[0m\u001b[0mlen\u001b[0m\u001b[1;33m(\u001b[0m\u001b[0mbatch\u001b[0m\u001b[1;33m)\u001b[0m\u001b[1;33m,\u001b[0m \u001b[1;33m*\u001b[0m\u001b[0mlist\u001b[0m\u001b[1;33m(\u001b[0m\u001b[0melem\u001b[0m\u001b[1;33m.\u001b[0m\u001b[0msize\u001b[0m\u001b[1;33m(\u001b[0m\u001b[1;33m)\u001b[0m\u001b[1;33m)\u001b[0m\u001b[1;33m)\u001b[0m\u001b[1;33m\u001b[0m\u001b[1;33m\u001b[0m\u001b[0m\n\u001b[1;32m--> 163\u001b[1;33m     \u001b[1;32mreturn\u001b[0m \u001b[0mtorch\u001b[0m\u001b[1;33m.\u001b[0m\u001b[0mstack\u001b[0m\u001b[1;33m(\u001b[0m\u001b[0mbatch\u001b[0m\u001b[1;33m,\u001b[0m \u001b[1;36m0\u001b[0m\u001b[1;33m,\u001b[0m \u001b[0mout\u001b[0m\u001b[1;33m=\u001b[0m\u001b[0mout\u001b[0m\u001b[1;33m)\u001b[0m\u001b[1;33m\u001b[0m\u001b[1;33m\u001b[0m\u001b[0m\n\u001b[0m\u001b[0;32m    164\u001b[0m \u001b[1;33m\u001b[0m\u001b[0m\n\u001b[0;32m    165\u001b[0m \u001b[1;33m\u001b[0m\u001b[0m\n",
      "\u001b[1;31mRuntimeError\u001b[0m: stack expects each tensor to be equal size, but got [19, 768] at entry 0 and [0] at entry 1"
     ]
    }
   ],
   "source": [
    "epochs = 5\n",
    "for epoch in range(epochs):\n",
    "    train_loss, train_accuracy = train(model, loss_fn, optimizer, train_dataloader)\n",
    "    val_loss, val_accuracy = test(model, loss_fn, val_dataloader)\n",
    "    print(f\"Epoch: {epoch} | Train Loss: {train_loss} | Train Accuracy: {train_accuracy} | Val Loss: {val_loss} | Val Accuracy: {val_accuracy}\")"
   ]
  },
  {
   "cell_type": "code",
   "execution_count": null,
   "metadata": {},
   "outputs": [],
   "source": []
  }
 ],
 "metadata": {
  "kernelspec": {
   "display_name": "Python 3",
   "language": "python",
   "name": "python3"
  },
  "language_info": {
   "codemirror_mode": {
    "name": "ipython",
    "version": 3
   },
   "file_extension": ".py",
   "mimetype": "text/x-python",
   "name": "python",
   "nbconvert_exporter": "python",
   "pygments_lexer": "ipython3",
   "version": "3.7.6"
  },
  "orig_nbformat": 4,
  "vscode": {
   "interpreter": {
    "hash": "cd02db121bf902acaaed89be6d52e25c5641d1f436ea673258ce559a53141411"
   }
  }
 },
 "nbformat": 4,
 "nbformat_minor": 2
}
